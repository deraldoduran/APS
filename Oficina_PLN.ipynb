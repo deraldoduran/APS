{
  "nbformat": 4,
  "nbformat_minor": 0,
  "metadata": {
    "kernelspec": {
      "display_name": "Python 3",
      "language": "python",
      "name": "python3"
    },
    "language_info": {
      "codemirror_mode": {
        "name": "ipython",
        "version": 3
      },
      "file_extension": ".py",
      "mimetype": "text/x-python",
      "name": "python",
      "nbconvert_exporter": "python",
      "pygments_lexer": "ipython3",
      "version": "3.7.7"
    },
    "colab": {
      "name": "Oficina_PLN.ipynb",
      "provenance": [],
      "include_colab_link": true
    }
  },
  "cells": [
    {
      "cell_type": "markdown",
      "metadata": {
        "id": "view-in-github",
        "colab_type": "text"
      },
      "source": [
        "<a href=\"https://colab.research.google.com/github/deraldoduran/Machine-Learning-Dell/blob/main/Oficina_PLN.ipynb\" target=\"_parent\"><img src=\"https://colab.research.google.com/assets/colab-badge.svg\" alt=\"Open In Colab\"/></a>"
      ]
    },
    {
      "cell_type": "markdown",
      "metadata": {
        "id": "NV1-yPBRNXGF"
      },
      "source": [
        "### Bibliotecas necessárias"
      ]
    },
    {
      "cell_type": "code",
      "metadata": {
        "colab": {
          "base_uri": "https://localhost:8080/"
        },
        "id": "7Wq7W18DNXGH",
        "outputId": "b5a7fa92-3ef8-463f-cb50-768033fde523"
      },
      "source": [
        "! pip install nltk"
      ],
      "execution_count": 1,
      "outputs": [
        {
          "output_type": "stream",
          "text": [
            "Requirement already satisfied: nltk in /usr/local/lib/python3.7/dist-packages (3.2.5)\n",
            "Requirement already satisfied: six in /usr/local/lib/python3.7/dist-packages (from nltk) (1.15.0)\n"
          ],
          "name": "stdout"
        }
      ]
    },
    {
      "cell_type": "code",
      "metadata": {
        "id": "K1vjJtWyNXGI"
      },
      "source": [
        "import nltk\n",
        "from sklearn.feature_extraction.text import TfidfVectorizer\n",
        "import pandas as pd"
      ],
      "execution_count": 2,
      "outputs": []
    },
    {
      "cell_type": "markdown",
      "metadata": {
        "id": "PrFkwRoNNXGJ"
      },
      "source": [
        "### Pacotes necessários"
      ]
    },
    {
      "cell_type": "code",
      "metadata": {
        "colab": {
          "base_uri": "https://localhost:8080/"
        },
        "id": "nQpZK7A1NXGK",
        "outputId": "11ffd75c-c26b-4ab7-ce82-aa3d2f5e8da2"
      },
      "source": [
        "nltk.download('stopwords')\n",
        "nltk.download('punkt')"
      ],
      "execution_count": 3,
      "outputs": [
        {
          "output_type": "stream",
          "text": [
            "[nltk_data] Downloading package stopwords to /root/nltk_data...\n",
            "[nltk_data]   Unzipping corpora/stopwords.zip.\n",
            "[nltk_data] Downloading package punkt to /root/nltk_data...\n",
            "[nltk_data]   Unzipping tokenizers/punkt.zip.\n"
          ],
          "name": "stdout"
        },
        {
          "output_type": "execute_result",
          "data": {
            "text/plain": [
              "True"
            ]
          },
          "metadata": {
            "tags": []
          },
          "execution_count": 3
        }
      ]
    },
    {
      "cell_type": "markdown",
      "metadata": {
        "id": "eH671P3LNXGK"
      },
      "source": [
        "Use a variável texto a seguir para identificar as stop words\n",
        "e após isso aplique o cáculo do **TF-IDF** neste mesmo texto e observe os scores."
      ]
    },
    {
      "cell_type": "markdown",
      "metadata": {
        "id": "M_YnRVNfNXGL"
      },
      "source": [
        "**OBS:** Para realizar essa tarefa utilize os módulos estudados na aula"
      ]
    },
    {
      "cell_type": "code",
      "metadata": {
        "colab": {
          "base_uri": "https://localhost:8080/"
        },
        "id": "fMCiyEO8NXGM",
        "outputId": "c0d9ceae-0b25-48fa-f331-5970097ed5e1"
      },
      "source": [
        "texto = 'Um carro azul seguia rapidamente em uma rodovia, e ao passar por um buraco, o carro furou o pneu, e o motorista desceu do carro azul'\r\n",
        "\r\n",
        "nltk.download('stopwords')\r\n",
        "\r\n",
        "stopwords = nltk.corpus.stopwords.words('portuguese')\r\n",
        "\r\n",
        "from nltk.tokenize import word_tokenize\r\n",
        "\r\n",
        "tokens = word_tokenize(texto)\r\n",
        "\r\n",
        "print(tokens)\r\n",
        "\r\n",
        "for t in tokens:\r\n",
        "    if t not in stopwords:\r\n",
        "        print(t)"
      ],
      "execution_count": 7,
      "outputs": [
        {
          "output_type": "stream",
          "text": [
            "[nltk_data] Downloading package stopwords to /root/nltk_data...\n",
            "[nltk_data]   Package stopwords is already up-to-date!\n",
            "['Um', 'carro', 'azul', 'seguia', 'rapidamente', 'em', 'uma', 'rodovia', ',', 'e', 'ao', 'passar', 'por', 'um', 'buraco', ',', 'o', 'carro', 'furou', 'o', 'pneu', ',', 'e', 'o', 'motorista', 'desceu', 'do', 'carro', 'azul']\n",
            "Um\n",
            "carro\n",
            "azul\n",
            "seguia\n",
            "rapidamente\n",
            "rodovia\n",
            ",\n",
            "passar\n",
            "buraco\n",
            ",\n",
            "carro\n",
            "furou\n",
            "pneu\n",
            ",\n",
            "motorista\n",
            "desceu\n",
            "carro\n",
            "azul\n"
          ],
          "name": "stdout"
        }
      ]
    },
    {
      "cell_type": "code",
      "metadata": {
        "colab": {
          "base_uri": "https://localhost:8080/"
        },
        "id": "uiOJQ9FzPbZR",
        "outputId": "05c087aa-d834-40c9-f17c-85cc0dce432e"
      },
      "source": [
        "from sklearn.feature_extraction.text import TfidfVectorizer\r\n",
        "import pandas as pd\r\n",
        "\r\n",
        "tf_idf = TfidfVectorizer()\r\n",
        "\r\n",
        "vetor = tf_idf.fit_transform([texto])\r\n",
        "print(vetor)\r\n",
        "\r\n",
        "vetor = vetor.todense()\r\n",
        "print(vetor)\r\n",
        "\r\n",
        "\r\n",
        "nomes = tf_idf.get_feature_names()\r\n",
        "\r\n",
        "df = pd.DataFrame(vetor, columns=nomes)\r\n",
        "print(df)\r\n",
        "\r\n"
      ],
      "execution_count": 8,
      "outputs": [
        {
          "output_type": "stream",
          "text": [
            "  (0, 5)\t0.1796053020267749\n",
            "  (0, 4)\t0.1796053020267749\n",
            "  (0, 8)\t0.1796053020267749\n",
            "  (0, 10)\t0.1796053020267749\n",
            "  (0, 7)\t0.1796053020267749\n",
            "  (0, 2)\t0.1796053020267749\n",
            "  (0, 11)\t0.1796053020267749\n",
            "  (0, 9)\t0.1796053020267749\n",
            "  (0, 0)\t0.1796053020267749\n",
            "  (0, 13)\t0.1796053020267749\n",
            "  (0, 16)\t0.1796053020267749\n",
            "  (0, 6)\t0.1796053020267749\n",
            "  (0, 12)\t0.1796053020267749\n",
            "  (0, 14)\t0.1796053020267749\n",
            "  (0, 1)\t0.3592106040535498\n",
            "  (0, 3)\t0.5388159060803247\n",
            "  (0, 15)\t0.3592106040535498\n",
            "[[0.1796053  0.3592106  0.1796053  0.53881591 0.1796053  0.1796053\n",
            "  0.1796053  0.1796053  0.1796053  0.1796053  0.1796053  0.1796053\n",
            "  0.1796053  0.1796053  0.1796053  0.3592106  0.1796053 ]]\n",
            "         ao      azul    buraco  ...    seguia        um       uma\n",
            "0  0.179605  0.359211  0.179605  ...  0.179605  0.359211  0.179605\n",
            "\n",
            "[1 rows x 17 columns]\n"
          ],
          "name": "stdout"
        }
      ]
    },
    {
      "cell_type": "code",
      "metadata": {
        "id": "l4t8R4hrP47D"
      },
      "source": [
        ""
      ],
      "execution_count": null,
      "outputs": []
    }
  ]
}