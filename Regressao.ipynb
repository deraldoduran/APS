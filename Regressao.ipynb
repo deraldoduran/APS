{
  "nbformat": 4,
  "nbformat_minor": 0,
  "metadata": {
    "kernelspec": {
      "display_name": "Python 3",
      "language": "python",
      "name": "python3"
    },
    "language_info": {
      "codemirror_mode": {
        "name": "ipython",
        "version": 3
      },
      "file_extension": ".py",
      "mimetype": "text/x-python",
      "name": "python",
      "nbconvert_exporter": "python",
      "pygments_lexer": "ipython3",
      "version": "3.7.6"
    },
    "colab": {
      "name": "Regressao.ipynb",
      "provenance": [],
      "toc_visible": true,
      "include_colab_link": true
    }
  },
  "cells": [
    {
      "cell_type": "markdown",
      "metadata": {
        "id": "view-in-github",
        "colab_type": "text"
      },
      "source": [
        "<a href=\"https://colab.research.google.com/github/deraldoduran/APS/blob/main/Regressao.ipynb\" target=\"_parent\"><img src=\"https://colab.research.google.com/assets/colab-badge.svg\" alt=\"Open In Colab\"/></a>"
      ]
    },
    {
      "cell_type": "markdown",
      "metadata": {
        "id": "cvMVsBf8ByqF"
      },
      "source": [
        "### Regressão Linear Múltipla"
      ]
    },
    {
      "cell_type": "markdown",
      "metadata": {
        "id": "iShjEdQaByqK"
      },
      "source": [
        "Neste notebook aprenderemos como utilizar a biblioteca scikit-learn para construirmos um modelo de previsão de preço, usando regressão linear múltipla. Para isso utilizaremos um conjunto de dados de carros usados listados pelo site www.cardekho.com e disponível em: https://www.kaggle.com/nehalbirla/vehicle-dataset-from-cardekho e adaptado neste notebook."
      ]
    },
    {
      "cell_type": "markdown",
      "metadata": {
        "id": "aCQArmK0ByqL"
      },
      "source": [
        "As informações contidas no dataset são:\n",
        "\n",
        "**nome_carro:**        nome do carro\n",
        "\n",
        "**ano:**               ano de fabricação\n",
        "\n",
        "**preco_venda:**       preço que o dono quer vender\n",
        "\n",
        "**preco_atual:**       preço da concessionária\n",
        "\n",
        "**kms_rodados:**       kilometragem do carro \n",
        "\n",
        "**tipo_combustivel:**  tipo de combustível do carro (Diesel, Gasolina, GasNatural)\n",
        "\n",
        "**tipo_vendedor:**     se o vendedor é um revendedor ou é a própria pessoa\n",
        "\n",
        "**tipo_transmissao:**  tipo de câmbio do carro\n",
        "\n",
        "**n_donos:**           número de donos que o carro já teve"
      ]
    },
    {
      "cell_type": "markdown",
      "metadata": {
        "id": "liieM72oByqL"
      },
      "source": [
        "### Importando bibliotecas necessárias"
      ]
    },
    {
      "cell_type": "code",
      "metadata": {
        "id": "InW6ZrYJByqM"
      },
      "source": [
        "import pandas as pd\n",
        "import numpy as np\n",
        "import matplotlib.pyplot as plt\n",
        "%matplotlib inline"
      ],
      "execution_count": 1,
      "outputs": []
    },
    {
      "cell_type": "markdown",
      "metadata": {
        "id": "4xztLHoYByqM"
      },
      "source": [
        "### Carregando os dados"
      ]
    },
    {
      "cell_type": "code",
      "metadata": {
        "scrolled": true,
        "colab": {
          "base_uri": "https://localhost:8080/",
          "height": 204
        },
        "id": "BWCjnwpzByqN",
        "outputId": "15603fbb-74ef-481a-d5ce-a3b2fb8abb83"
      },
      "source": [
        "df = pd.read_csv(\"car_data.csv\")\n",
        "\n",
        "# mostrando as primeiras linhas do arquivo.\n",
        "df.head()"
      ],
      "execution_count": 2,
      "outputs": [
        {
          "output_type": "execute_result",
          "data": {
            "text/html": [
              "<div>\n",
              "<style scoped>\n",
              "    .dataframe tbody tr th:only-of-type {\n",
              "        vertical-align: middle;\n",
              "    }\n",
              "\n",
              "    .dataframe tbody tr th {\n",
              "        vertical-align: top;\n",
              "    }\n",
              "\n",
              "    .dataframe thead th {\n",
              "        text-align: right;\n",
              "    }\n",
              "</style>\n",
              "<table border=\"1\" class=\"dataframe\">\n",
              "  <thead>\n",
              "    <tr style=\"text-align: right;\">\n",
              "      <th></th>\n",
              "      <th>nome_carro</th>\n",
              "      <th>ano</th>\n",
              "      <th>preco_venda</th>\n",
              "      <th>preco_atual</th>\n",
              "      <th>kms_rodados</th>\n",
              "      <th>tipo_combustivel</th>\n",
              "      <th>tipo_vendedor</th>\n",
              "      <th>tipo_transmissao</th>\n",
              "      <th>n_donos</th>\n",
              "    </tr>\n",
              "  </thead>\n",
              "  <tbody>\n",
              "    <tr>\n",
              "      <th>0</th>\n",
              "      <td>ritz</td>\n",
              "      <td>2014</td>\n",
              "      <td>3.35</td>\n",
              "      <td>5.59</td>\n",
              "      <td>27000</td>\n",
              "      <td>Gasolina</td>\n",
              "      <td>Revendedor</td>\n",
              "      <td>Manual</td>\n",
              "      <td>0</td>\n",
              "    </tr>\n",
              "    <tr>\n",
              "      <th>1</th>\n",
              "      <td>sx4</td>\n",
              "      <td>2013</td>\n",
              "      <td>4.75</td>\n",
              "      <td>9.54</td>\n",
              "      <td>43000</td>\n",
              "      <td>Diesel</td>\n",
              "      <td>Revendedor</td>\n",
              "      <td>Manual</td>\n",
              "      <td>0</td>\n",
              "    </tr>\n",
              "    <tr>\n",
              "      <th>2</th>\n",
              "      <td>ciaz</td>\n",
              "      <td>2017</td>\n",
              "      <td>7.25</td>\n",
              "      <td>9.85</td>\n",
              "      <td>6900</td>\n",
              "      <td>Gasolina</td>\n",
              "      <td>Revendedor</td>\n",
              "      <td>Manual</td>\n",
              "      <td>0</td>\n",
              "    </tr>\n",
              "    <tr>\n",
              "      <th>3</th>\n",
              "      <td>wagon r</td>\n",
              "      <td>2011</td>\n",
              "      <td>2.85</td>\n",
              "      <td>4.15</td>\n",
              "      <td>5200</td>\n",
              "      <td>Gasolina</td>\n",
              "      <td>Revendedor</td>\n",
              "      <td>Manual</td>\n",
              "      <td>0</td>\n",
              "    </tr>\n",
              "    <tr>\n",
              "      <th>4</th>\n",
              "      <td>swift</td>\n",
              "      <td>2014</td>\n",
              "      <td>4.60</td>\n",
              "      <td>6.87</td>\n",
              "      <td>42450</td>\n",
              "      <td>Diesel</td>\n",
              "      <td>Revendedor</td>\n",
              "      <td>Manual</td>\n",
              "      <td>0</td>\n",
              "    </tr>\n",
              "  </tbody>\n",
              "</table>\n",
              "</div>"
            ],
            "text/plain": [
              "  nome_carro   ano  preco_venda  ...  tipo_vendedor  tipo_transmissao n_donos\n",
              "0       ritz  2014         3.35  ...     Revendedor            Manual       0\n",
              "1        sx4  2013         4.75  ...     Revendedor            Manual       0\n",
              "2       ciaz  2017         7.25  ...     Revendedor            Manual       0\n",
              "3    wagon r  2011         2.85  ...     Revendedor            Manual       0\n",
              "4      swift  2014         4.60  ...     Revendedor            Manual       0\n",
              "\n",
              "[5 rows x 9 columns]"
            ]
          },
          "metadata": {
            "tags": []
          },
          "execution_count": 2
        }
      ]
    },
    {
      "cell_type": "markdown",
      "metadata": {
        "id": "TKpWQ766ByqO"
      },
      "source": [
        "Tamanho dos nossos registros"
      ]
    },
    {
      "cell_type": "code",
      "metadata": {
        "colab": {
          "base_uri": "https://localhost:8080/"
        },
        "id": "_d4wIVhMByqO",
        "outputId": "fbc839eb-e20c-407f-e3f3-6a76a5ae29c4"
      },
      "source": [
        "# o nosso dataset possui 301 registros de carros usados\n",
        "print(df.shape)"
      ],
      "execution_count": 3,
      "outputs": [
        {
          "output_type": "stream",
          "text": [
            "(301, 9)\n"
          ],
          "name": "stdout"
        }
      ]
    },
    {
      "cell_type": "markdown",
      "metadata": {
        "id": "KE0DHoE3ByqO"
      },
      "source": [
        "Para o algoritmo de regressão, vamos substituir os dados que possuem textos por números. "
      ]
    },
    {
      "cell_type": "code",
      "metadata": {
        "scrolled": true,
        "colab": {
          "base_uri": "https://localhost:8080/",
          "height": 204
        },
        "id": "nY3XqAkGByqP",
        "outputId": "f7e30cc7-71be-4520-c87e-2c86d8e51059"
      },
      "source": [
        "df['tipo_transmissao'].replace({'Manual': 0, 'Automatico': 1}, inplace=True)\n",
        "df['tipo_vendedor'].replace({'Revendedor': 0, 'Individual': 1}, inplace=True)\n",
        "df['tipo_combustivel'].replace({'Gasolina': 0, 'Diesel': 1, 'GasNatural': 2}, inplace=True)\n",
        "df.head()"
      ],
      "execution_count": 4,
      "outputs": [
        {
          "output_type": "execute_result",
          "data": {
            "text/html": [
              "<div>\n",
              "<style scoped>\n",
              "    .dataframe tbody tr th:only-of-type {\n",
              "        vertical-align: middle;\n",
              "    }\n",
              "\n",
              "    .dataframe tbody tr th {\n",
              "        vertical-align: top;\n",
              "    }\n",
              "\n",
              "    .dataframe thead th {\n",
              "        text-align: right;\n",
              "    }\n",
              "</style>\n",
              "<table border=\"1\" class=\"dataframe\">\n",
              "  <thead>\n",
              "    <tr style=\"text-align: right;\">\n",
              "      <th></th>\n",
              "      <th>nome_carro</th>\n",
              "      <th>ano</th>\n",
              "      <th>preco_venda</th>\n",
              "      <th>preco_atual</th>\n",
              "      <th>kms_rodados</th>\n",
              "      <th>tipo_combustivel</th>\n",
              "      <th>tipo_vendedor</th>\n",
              "      <th>tipo_transmissao</th>\n",
              "      <th>n_donos</th>\n",
              "    </tr>\n",
              "  </thead>\n",
              "  <tbody>\n",
              "    <tr>\n",
              "      <th>0</th>\n",
              "      <td>ritz</td>\n",
              "      <td>2014</td>\n",
              "      <td>3.35</td>\n",
              "      <td>5.59</td>\n",
              "      <td>27000</td>\n",
              "      <td>0</td>\n",
              "      <td>0</td>\n",
              "      <td>0</td>\n",
              "      <td>0</td>\n",
              "    </tr>\n",
              "    <tr>\n",
              "      <th>1</th>\n",
              "      <td>sx4</td>\n",
              "      <td>2013</td>\n",
              "      <td>4.75</td>\n",
              "      <td>9.54</td>\n",
              "      <td>43000</td>\n",
              "      <td>1</td>\n",
              "      <td>0</td>\n",
              "      <td>0</td>\n",
              "      <td>0</td>\n",
              "    </tr>\n",
              "    <tr>\n",
              "      <th>2</th>\n",
              "      <td>ciaz</td>\n",
              "      <td>2017</td>\n",
              "      <td>7.25</td>\n",
              "      <td>9.85</td>\n",
              "      <td>6900</td>\n",
              "      <td>0</td>\n",
              "      <td>0</td>\n",
              "      <td>0</td>\n",
              "      <td>0</td>\n",
              "    </tr>\n",
              "    <tr>\n",
              "      <th>3</th>\n",
              "      <td>wagon r</td>\n",
              "      <td>2011</td>\n",
              "      <td>2.85</td>\n",
              "      <td>4.15</td>\n",
              "      <td>5200</td>\n",
              "      <td>0</td>\n",
              "      <td>0</td>\n",
              "      <td>0</td>\n",
              "      <td>0</td>\n",
              "    </tr>\n",
              "    <tr>\n",
              "      <th>4</th>\n",
              "      <td>swift</td>\n",
              "      <td>2014</td>\n",
              "      <td>4.60</td>\n",
              "      <td>6.87</td>\n",
              "      <td>42450</td>\n",
              "      <td>1</td>\n",
              "      <td>0</td>\n",
              "      <td>0</td>\n",
              "      <td>0</td>\n",
              "    </tr>\n",
              "  </tbody>\n",
              "</table>\n",
              "</div>"
            ],
            "text/plain": [
              "  nome_carro   ano  preco_venda  ...  tipo_vendedor  tipo_transmissao  n_donos\n",
              "0       ritz  2014         3.35  ...              0                 0        0\n",
              "1        sx4  2013         4.75  ...              0                 0        0\n",
              "2       ciaz  2017         7.25  ...              0                 0        0\n",
              "3    wagon r  2011         2.85  ...              0                 0        0\n",
              "4      swift  2014         4.60  ...              0                 0        0\n",
              "\n",
              "[5 rows x 9 columns]"
            ]
          },
          "metadata": {
            "tags": []
          },
          "execution_count": 4
        }
      ]
    },
    {
      "cell_type": "markdown",
      "metadata": {
        "id": "77r9_n3BByqP"
      },
      "source": [
        "Vamos plotar em um gráfico os anos do carros versus o preço de venda"
      ]
    },
    {
      "cell_type": "code",
      "metadata": {
        "colab": {
          "base_uri": "https://localhost:8080/",
          "height": 279
        },
        "id": "NRd7uO9wByqP",
        "outputId": "46ce3e28-24b8-402c-fc0c-085c9bad046a"
      },
      "source": [
        "plt.scatter(df['ano'], df['preco_venda'],  color='blue')\n",
        "plt.xlabel(\"Ano do Carro\")\n",
        "plt.ylabel(\"Preço de venda\")\n",
        "plt.show()"
      ],
      "execution_count": 5,
      "outputs": [
        {
          "output_type": "display_data",
          "data": {
            "image/png": "[encoded data removed]",
            "text/plain": [
              "<Figure size 432x288 with 1 Axes>"
            ]
          },
          "metadata": {
            "tags": [],
            "needs_background": "light"
          }
        }
      ]
    },
    {
      "cell_type": "markdown",
      "metadata": {
        "id": "CXsuwYBMByqP"
      },
      "source": [
        "Agora vamos ver qual os anos dos carros que mais rodaram"
      ]
    },
    {
      "cell_type": "code",
      "metadata": {
        "scrolled": true,
        "colab": {
          "base_uri": "https://localhost:8080/",
          "height": 279
        },
        "id": "HuClY84XByqQ",
        "outputId": "3016b54a-631b-4fad-d8d5-e254932ab522"
      },
      "source": [
        "plt.scatter(df['ano'], df['kms_rodados'],  color='red')\n",
        "plt.xlabel(\"Ano do Carro\")\n",
        "plt.ylabel(\"Kms Rodados\")\n",
        "plt.show()"
      ],
      "execution_count": 6,
      "outputs": [
        {
          "output_type": "display_data",
          "data": {
            "image/png": "[encoded data removed]",
            "text/plain": [
              "<Figure size 432x288 with 1 Axes>"
            ]
          },
          "metadata": {
            "tags": [],
            "needs_background": "light"
          }
        }
      ]
    },
    {
      "cell_type": "markdown",
      "metadata": {
        "id": "y_YEyZZUByqQ"
      },
      "source": [
        "Separando a variável dependente e as variáveis independentes"
      ]
    },
    {
      "cell_type": "code",
      "metadata": {
        "id": "ykCl4A5HByqQ"
      },
      "source": [
        "# escolhendo as variáveis independentes\n",
        "x = df[['ano', 'preco_atual', 'kms_rodados', 'tipo_combustivel', 'tipo_vendedor', 'tipo_transmissao', 'n_donos']]"
      ],
      "execution_count": 7,
      "outputs": []
    },
    {
      "cell_type": "code",
      "metadata": {
        "id": "Hu0O99tpByqQ"
      },
      "source": [
        "# variável dependente\n",
        "y = df[['preco_venda']]"
      ],
      "execution_count": 8,
      "outputs": []
    },
    {
      "cell_type": "markdown",
      "metadata": {
        "id": "7jS4Z3vKByqR"
      },
      "source": [
        "### Separar dados em treino e teste"
      ]
    },
    {
      "cell_type": "markdown",
      "metadata": {
        "id": "V2Y-DbJlByqR"
      },
      "source": [
        "Para construir nosso modelo de Machine Learning precisamos dividir os dados em duas partes. Uma para treinar o modelo\n",
        "e outra para testar o modelo com dados que ele não conhece. Para isso iremos separar 80% dos dados para treino e 20%\n",
        "dos dados para teste. Para isso usaremos a biblioteca train_test_split que faz essa separação automaticamente."
      ]
    },
    {
      "cell_type": "code",
      "metadata": {
        "id": "hpnO-tOXByqR"
      },
      "source": [
        "from sklearn.model_selection import train_test_split\n",
        "\n",
        "x_train, x_test, y_train, y_test = train_test_split(x, y, test_size=0.2)\n"
      ],
      "execution_count": 9,
      "outputs": []
    },
    {
      "cell_type": "markdown",
      "metadata": {
        "id": "JEufFuNsByqR"
      },
      "source": [
        "**x_train** é a parte usada para treinar o algoritmo\n",
        "\n",
        "**x_test** é a parte usada para testar o algoritmo depois de treinado\n",
        "\n",
        "**y_train** é a parte das respostas usadas no treino\n",
        "\n",
        "**y_test** é a parte das respostas usadas para testar o algoritmo"
      ]
    },
    {
      "cell_type": "code",
      "metadata": {
        "colab": {
          "base_uri": "https://localhost:8080/"
        },
        "id": "XgHdUgsyByqR",
        "outputId": "ba855bae-e80b-4f09-c859-6f636861a8a2"
      },
      "source": [
        "# Vendo o número de registros que serão usados para o treino e teste\n",
        "print('Treino')\n",
        "print(\"x_train: \",x_train.shape)\n",
        "print(\"y_train: \",y_train.shape)\n",
        "\n",
        "print('\\nTeste')\n",
        "print(\"x_test: \",x_test.shape)\n",
        "print(\"y_test: \",y_test.shape)"
      ],
      "execution_count": 10,
      "outputs": [
        {
          "output_type": "stream",
          "text": [
            "Treino\n",
            "x_train:  (240, 7)\n",
            "y_train:  (240, 1)\n",
            "\n",
            "Teste\n",
            "x_test:  (61, 7)\n",
            "y_test:  (61, 1)\n"
          ],
          "name": "stdout"
        }
      ]
    },
    {
      "cell_type": "markdown",
      "metadata": {
        "id": "TOoL6GsHByqS"
      },
      "source": [
        "### Treinando o Modelo"
      ]
    },
    {
      "cell_type": "code",
      "metadata": {
        "colab": {
          "base_uri": "https://localhost:8080/"
        },
        "id": "61i2xlH1ByqS",
        "outputId": "c78590ce-a35b-4d12-88e0-d49b9b1874ee"
      },
      "source": [
        "from sklearn.linear_model import LinearRegression\n",
        "\n",
        "# define um modelo de regressão\n",
        "model = LinearRegression()\n",
        "\n",
        "# treina o modelo com os dados de treino\n",
        "model.fit(x_train, y_train)"
      ],
      "execution_count": 11,
      "outputs": [
        {
          "output_type": "execute_result",
          "data": {
            "text/plain": [
              "LinearRegression(copy_X=True, fit_intercept=True, n_jobs=None, normalize=False)"
            ]
          },
          "metadata": {
            "tags": []
          },
          "execution_count": 11
        }
      ]
    },
    {
      "cell_type": "markdown",
      "metadata": {
        "id": "N3SF4lYIByqS"
      },
      "source": [
        "### Realiza a previsão dos preços"
      ]
    },
    {
      "cell_type": "code",
      "metadata": {
        "id": "PKlDRpStByqS"
      },
      "source": [
        "# y_pred contém a previsão dos preços do nosso modelo\n",
        "y_pred = model.predict(x_test)"
      ],
      "execution_count": 12,
      "outputs": []
    },
    {
      "cell_type": "code",
      "metadata": {
        "colab": {
          "base_uri": "https://localhost:8080/"
        },
        "id": "GaUreJ16ByqT",
        "outputId": "aa667c7b-62e9-42ea-86a4-c8a3c6dcf1f9"
      },
      "source": [
        "print(y_pred.shape)\n",
        "print(y_test.shape)"
      ],
      "execution_count": 13,
      "outputs": [
        {
          "output_type": "stream",
          "text": [
            "(61, 1)\n",
            "(61, 1)\n"
          ],
          "name": "stdout"
        }
      ]
    },
    {
      "cell_type": "markdown",
      "metadata": {
        "id": "oqd35f2VByqT"
      },
      "source": [
        "Agora vamos plotar o preço dos carros, previsto pelo modelo versus os dados de teste"
      ]
    },
    {
      "cell_type": "code",
      "metadata": {
        "colab": {
          "base_uri": "https://localhost:8080/",
          "height": 279
        },
        "id": "sn6gIzvMByqT",
        "outputId": "270f230a-01f6-45c9-d726-72a0ade11895"
      },
      "source": [
        "plt.plot(range(y_pred.shape[0]), y_pred,'r--')\n",
        "plt.plot(range(y_test.shape[0]), y_test,'g--')\n",
        "plt.legend(['preço previsto', 'preço real'])\n",
        "plt.ylabel('Preço')\n",
        "plt.xlabel('Índice')\n",
        "\n",
        "plt.show()"
      ],
      "execution_count": 14,
      "outputs": [
        {
          "output_type": "display_data",
          "data": {
            "image/png": "[encoded data removed]",
            "text/plain": [
              "<Figure size 432x288 with 1 Axes>"
            ]
          },
          "metadata": {
            "tags": [],
            "needs_background": "light"
          }
        }
      ]
    },
    {
      "cell_type": "markdown",
      "metadata": {
        "id": "qgGDLScNByqT"
      },
      "source": [
        "É possível observar no gráfico que o modelo, em alguns casos tende a prever preços mais baixos do que o preço real de venda."
      ]
    },
    {
      "cell_type": "markdown",
      "metadata": {
        "id": "hEJmBF8ZByqU"
      },
      "source": [
        "Para saber o quanto o nosso modelo está explicando os dados, ou o quanto o modelo pode prever corretamente,\n",
        "iremos utilizar a medida r2, que é o coeficiente de determinação. Para isso iremos utilizar os dados da resposta\n",
        "na etapa de teste e os dados de resposta previstos."
      ]
    },
    {
      "cell_type": "code",
      "metadata": {
        "colab": {
          "base_uri": "https://localhost:8080/"
        },
        "id": "5CZnV4AjByqU",
        "outputId": "d17a7b2a-014f-42e3-d93f-cebda37871af"
      },
      "source": [
        "from sklearn.metrics import r2_score\n",
        "\n",
        "print('R2-score: ', r2_score(y_test, y_pred))"
      ],
      "execution_count": 15,
      "outputs": [
        {
          "output_type": "stream",
          "text": [
            "R2-score:  0.83973167323294\n"
          ],
          "name": "stdout"
        }
      ]
    },
    {
      "cell_type": "markdown",
      "metadata": {
        "id": "14NdeIwxByqU"
      },
      "source": [
        "Quanto mais próximo de 1, mais o modelo é capaz de prever corretamente.\n",
        "Então do resultado acima, colocando em porcentagem podemos dizer que o nosso modelo\n",
        "prevê corretamente 87% dos preços."
      ]
    },
    {
      "cell_type": "markdown",
      "metadata": {
        "id": "oMcKhK92ByqU"
      },
      "source": [
        "### Agora é sua vez de Praticar"
      ]
    },
    {
      "cell_type": "markdown",
      "metadata": {
        "id": "DXNcB3QMByqU"
      },
      "source": [
        "Use as variáveis a seguir para fazer as previsões com base no que já foi visto"
      ]
    },
    {
      "cell_type": "code",
      "metadata": {
        "id": "t1aAP-ZWByqV"
      },
      "source": [
        "new_x = df[['ano', 'preco_atual', 'kms_rodados', 'tipo_combustivel']]\n",
        "new_y = df[['preco_venda']]"
      ],
      "execution_count": 16,
      "outputs": []
    },
    {
      "cell_type": "markdown",
      "metadata": {
        "id": "B5Tuf5L_ByqV"
      },
      "source": [
        "Separe os dados em dados de treino e teste, e então defina um modelo de regressão e realize as previsões.\n",
        "depois use o r2_score para saber a nova porcentagem desse modelo. Oresultado é melhor ou pior?"
      ]
    },
    {
      "cell_type": "code",
      "metadata": {
        "colab": {
          "base_uri": "https://localhost:8080/"
        },
        "id": "kIIClIL2ByqV",
        "outputId": "9a307393-dff5-4d6e-d51d-482bc3afb6c6"
      },
      "source": [
        "# escreva seu código aqui\n",
        "from sklearn.model_selection import train_test_split\n",
        "\n",
        "new_x_train, new_x_test, new_y_train, new_y_test = train_test_split(new_x, new_y, test_size=0.2)\n",
        "# Vendo o número de registros que serão usados para o treino e teste\n",
        "print('Treino')\n",
        "print(\"new_x_train: \",new_x_train.shape)\n",
        "print(\"new_y_train: \",new_y_train.shape)\n",
        "\n",
        "print('\\nTeste')\n",
        "print(\"new_x_test: \",new_x_test.shape)\n",
        "print(\"new_y_test: \",new_y_test.shape)\n",
        "\n",
        "from sklearn.linear_model import LinearRegression\n",
        "\n",
        "# define um modelo de regressão\n",
        "model = LinearRegression()\n",
        "\n",
        "# treina o modelo com os dados de treino\n",
        "model.fit(new_x_train,new_y_train)\n",
        "\n",
        "\n",
        "\n",
        "\n",
        "\n",
        "\n",
        "\n",
        "\n"
      ],
      "execution_count": 19,
      "outputs": [
        {
          "output_type": "stream",
          "text": [
            "Treino\n",
            "new_x_train:  (240, 4)\n",
            "new_y_train:  (240, 1)\n",
            "\n",
            "Teste\n",
            "new_x_test:  (61, 4)\n",
            "new_y_test:  (61, 1)\n"
          ],
          "name": "stdout"
        },
        {
          "output_type": "execute_result",
          "data": {
            "text/plain": [
              "LinearRegression(copy_X=True, fit_intercept=True, n_jobs=None, normalize=False)"
            ]
          },
          "metadata": {
            "tags": []
          },
          "execution_count": 19
        }
      ]
    },
    {
      "cell_type": "code",
      "metadata": {
        "colab": {
          "base_uri": "https://localhost:8080/",
          "height": 313
        },
        "id": "4IJWDxwnByqV",
        "outputId": "b6b33528-abe2-42a6-dd6c-d4dc9241e244"
      },
      "source": [
        "# y_pred contém a previsão dos preços do nosso modelo\r\n",
        "new_y_pred = model.predict(new_x_test)\r\n",
        "print(new_y_pred.shape)\r\n",
        "print(new_y_test.shape)\r\n",
        "plt.plot(range(new_y_pred.shape[0]), new_y_pred,'r--')\r\n",
        "plt.plot(range(new_y_test.shape[0]), new_y_test,'g--')\r\n",
        "plt.legend(['preço previsto', 'preço real'])\r\n",
        "plt.ylabel('Preço')\r\n",
        "plt.xlabel('Índice')\r\n",
        "\r\n",
        "plt.show()"
      ],
      "execution_count": 21,
      "outputs": [
        {
          "output_type": "stream",
          "text": [
            "(61, 1)\n",
            "(61, 1)\n"
          ],
          "name": "stdout"
        },
        {
          "output_type": "display_data",
          "data": {
            "image/png": "[encoded data removed]",
            "text/plain": [
              "<Figure size 432x288 with 1 Axes>"
            ]
          },
          "metadata": {
            "tags": [],
            "needs_background": "light"
          }
        }
      ]
    },
    {
      "cell_type": "code",
      "metadata": {
        "colab": {
          "base_uri": "https://localhost:8080/"
        },
        "id": "R-IYFvpLByqV",
        "outputId": "6a592af5-6e0b-45b4-ca88-a715c92a2479"
      },
      "source": [
        "from sklearn.metrics import r2_score\r\n",
        "\r\n",
        "print('R2-score: ', r2_score(new_y_test, new_y_pred))"
      ],
      "execution_count": 22,
      "outputs": [
        {
          "output_type": "stream",
          "text": [
            "R2-score:  0.8135618153965507\n"
          ],
          "name": "stdout"
        }
      ]
    },
    {
      "cell_type": "code",
      "metadata": {
        "id": "cAG7P-z_ByqV"
      },
      "source": [
        ""
      ],
      "execution_count": null,
      "outputs": []
    }
  ]
}